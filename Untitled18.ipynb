{
 "cells": [
  {
   "cell_type": "code",
   "execution_count": 19,
   "metadata": {},
   "outputs": [
    {
     "name": "stdout",
     "output_type": "stream",
     "text": [
      "<class 'pandas.core.frame.DataFrame'>\n",
      "RangeIndex: 155 entries, 0 to 154\n",
      "Data columns (total 20 columns):\n",
      " #   Column           Non-Null Count  Dtype  \n",
      "---  ------           --------------  -----  \n",
      " 0   age              155 non-null    int64  \n",
      " 1   sex              155 non-null    object \n",
      " 2   steroid          154 non-null    object \n",
      " 3   antivirals       155 non-null    bool   \n",
      " 4   fatigue          154 non-null    object \n",
      " 5   malaise          154 non-null    object \n",
      " 6   anorexia         154 non-null    object \n",
      " 7   liver_big        145 non-null    object \n",
      " 8   liver_firm       144 non-null    object \n",
      " 9   spleen_palpable  150 non-null    object \n",
      " 10  spiders          150 non-null    object \n",
      " 11  ascites          150 non-null    object \n",
      " 12  varices          150 non-null    object \n",
      " 13  bilirubin        149 non-null    float64\n",
      " 14  alk_phosphate    126 non-null    float64\n",
      " 15  sgot             151 non-null    float64\n",
      " 16  albumin          139 non-null    float64\n",
      " 17  protime          88 non-null     float64\n",
      " 18  histology        155 non-null    bool   \n",
      " 19  class            155 non-null    object \n",
      "dtypes: bool(2), float64(5), int64(1), object(12)\n",
      "memory usage: 22.2+ KB\n",
      "total shape of the dataset  (155, 20)\n"
     ]
    }
   ],
   "source": [
    "import pandas as pd\n",
    "import seaborn as sns\n",
    "df=pd.read_csv('hepatitis_csv.csv')\n",
    "df.info()\n",
    "print(\"total shape of the dataset \",df.shape)"
   ]
  },
  {
   "cell_type": "code",
   "execution_count": 73,
   "metadata": {},
   "outputs": [
    {
     "data": {
      "text/html": [
       "<div>\n",
       "<style scoped>\n",
       "    .dataframe tbody tr th:only-of-type {\n",
       "        vertical-align: middle;\n",
       "    }\n",
       "\n",
       "    .dataframe tbody tr th {\n",
       "        vertical-align: top;\n",
       "    }\n",
       "\n",
       "    .dataframe thead th {\n",
       "        text-align: right;\n",
       "    }\n",
       "</style>\n",
       "<table border=\"1\" class=\"dataframe\">\n",
       "  <thead>\n",
       "    <tr style=\"text-align: right;\">\n",
       "      <th></th>\n",
       "      <th>age</th>\n",
       "      <th>sex</th>\n",
       "      <th>steroid</th>\n",
       "      <th>antivirals</th>\n",
       "      <th>fatigue</th>\n",
       "      <th>malaise</th>\n",
       "      <th>anorexia</th>\n",
       "      <th>liver_big</th>\n",
       "      <th>liver_firm</th>\n",
       "      <th>spleen_palpable</th>\n",
       "      <th>spiders</th>\n",
       "      <th>ascites</th>\n",
       "      <th>varices</th>\n",
       "      <th>bilirubin</th>\n",
       "      <th>alk_phosphate</th>\n",
       "      <th>sgot</th>\n",
       "      <th>albumin</th>\n",
       "      <th>protime</th>\n",
       "      <th>histology</th>\n",
       "      <th>class</th>\n",
       "    </tr>\n",
       "  </thead>\n",
       "  <tbody>\n",
       "    <tr>\n",
       "      <th>0</th>\n",
       "      <td>30</td>\n",
       "      <td>male</td>\n",
       "      <td>False</td>\n",
       "      <td>False</td>\n",
       "      <td>False</td>\n",
       "      <td>False</td>\n",
       "      <td>False</td>\n",
       "      <td>False</td>\n",
       "      <td>False</td>\n",
       "      <td>False</td>\n",
       "      <td>False</td>\n",
       "      <td>False</td>\n",
       "      <td>False</td>\n",
       "      <td>1.0</td>\n",
       "      <td>85.0</td>\n",
       "      <td>18.0</td>\n",
       "      <td>4.0</td>\n",
       "      <td>NaN</td>\n",
       "      <td>False</td>\n",
       "      <td>live</td>\n",
       "    </tr>\n",
       "    <tr>\n",
       "      <th>1</th>\n",
       "      <td>50</td>\n",
       "      <td>female</td>\n",
       "      <td>False</td>\n",
       "      <td>False</td>\n",
       "      <td>True</td>\n",
       "      <td>False</td>\n",
       "      <td>False</td>\n",
       "      <td>False</td>\n",
       "      <td>False</td>\n",
       "      <td>False</td>\n",
       "      <td>False</td>\n",
       "      <td>False</td>\n",
       "      <td>False</td>\n",
       "      <td>0.9</td>\n",
       "      <td>135.0</td>\n",
       "      <td>42.0</td>\n",
       "      <td>3.5</td>\n",
       "      <td>NaN</td>\n",
       "      <td>False</td>\n",
       "      <td>live</td>\n",
       "    </tr>\n",
       "    <tr>\n",
       "      <th>2</th>\n",
       "      <td>78</td>\n",
       "      <td>female</td>\n",
       "      <td>True</td>\n",
       "      <td>False</td>\n",
       "      <td>True</td>\n",
       "      <td>False</td>\n",
       "      <td>False</td>\n",
       "      <td>True</td>\n",
       "      <td>False</td>\n",
       "      <td>False</td>\n",
       "      <td>False</td>\n",
       "      <td>False</td>\n",
       "      <td>False</td>\n",
       "      <td>0.7</td>\n",
       "      <td>96.0</td>\n",
       "      <td>32.0</td>\n",
       "      <td>4.0</td>\n",
       "      <td>NaN</td>\n",
       "      <td>False</td>\n",
       "      <td>live</td>\n",
       "    </tr>\n",
       "    <tr>\n",
       "      <th>3</th>\n",
       "      <td>31</td>\n",
       "      <td>female</td>\n",
       "      <td>NaN</td>\n",
       "      <td>True</td>\n",
       "      <td>False</td>\n",
       "      <td>False</td>\n",
       "      <td>False</td>\n",
       "      <td>True</td>\n",
       "      <td>False</td>\n",
       "      <td>False</td>\n",
       "      <td>False</td>\n",
       "      <td>False</td>\n",
       "      <td>False</td>\n",
       "      <td>0.7</td>\n",
       "      <td>46.0</td>\n",
       "      <td>52.0</td>\n",
       "      <td>4.0</td>\n",
       "      <td>80.0</td>\n",
       "      <td>False</td>\n",
       "      <td>live</td>\n",
       "    </tr>\n",
       "    <tr>\n",
       "      <th>4</th>\n",
       "      <td>34</td>\n",
       "      <td>female</td>\n",
       "      <td>True</td>\n",
       "      <td>False</td>\n",
       "      <td>False</td>\n",
       "      <td>False</td>\n",
       "      <td>False</td>\n",
       "      <td>True</td>\n",
       "      <td>False</td>\n",
       "      <td>False</td>\n",
       "      <td>False</td>\n",
       "      <td>False</td>\n",
       "      <td>False</td>\n",
       "      <td>1.0</td>\n",
       "      <td>NaN</td>\n",
       "      <td>200.0</td>\n",
       "      <td>4.0</td>\n",
       "      <td>NaN</td>\n",
       "      <td>False</td>\n",
       "      <td>live</td>\n",
       "    </tr>\n",
       "  </tbody>\n",
       "</table>\n",
       "</div>"
      ],
      "text/plain": [
       "   age     sex steroid  antivirals fatigue malaise anorexia liver_big  \\\n",
       "0   30    male   False       False   False   False    False     False   \n",
       "1   50  female   False       False    True   False    False     False   \n",
       "2   78  female    True       False    True   False    False      True   \n",
       "3   31  female     NaN        True   False   False    False      True   \n",
       "4   34  female    True       False   False   False    False      True   \n",
       "\n",
       "  liver_firm spleen_palpable spiders ascites varices  bilirubin  \\\n",
       "0      False           False   False   False   False        1.0   \n",
       "1      False           False   False   False   False        0.9   \n",
       "2      False           False   False   False   False        0.7   \n",
       "3      False           False   False   False   False        0.7   \n",
       "4      False           False   False   False   False        1.0   \n",
       "\n",
       "   alk_phosphate   sgot  albumin  protime  histology class  \n",
       "0           85.0   18.0      4.0      NaN      False  live  \n",
       "1          135.0   42.0      3.5      NaN      False  live  \n",
       "2           96.0   32.0      4.0      NaN      False  live  \n",
       "3           46.0   52.0      4.0     80.0      False  live  \n",
       "4            NaN  200.0      4.0      NaN      False  live  "
      ]
     },
     "execution_count": 73,
     "metadata": {},
     "output_type": "execute_result"
    }
   ],
   "source": [
    "# in this dataset we see that there are 20 factors/columns/variables\n",
    "# we see that the factor/column name protime has only 88 non-missing values so is building a model protime can be ignored\n",
    "# seeing a sample of the dataset\n",
    "df.head()\n",
    "\n",
    "\n"
   ]
  },
  {
   "cell_type": "code",
   "execution_count": 54,
   "metadata": {},
   "outputs": [
    {
     "name": "stdout",
     "output_type": "stream",
     "text": [
      "count    155.000000\n",
      "mean      41.200000\n",
      "std       12.565878\n",
      "min        7.000000\n",
      "25%       32.000000\n",
      "50%       39.000000\n",
      "75%       50.000000\n",
      "max       78.000000\n",
      "Name: age, dtype: float64\n",
      "\n",
      "\n",
      "count        155\n",
      "unique         2\n",
      "top       female\n",
      "freq         139\n",
      "Name: sex, dtype: object\n",
      "\n",
      "\n",
      "count      154\n",
      "unique       2\n",
      "top       True\n",
      "freq        78\n",
      "Name: steroid, dtype: object\n",
      "\n",
      "\n",
      "count       155\n",
      "unique        2\n",
      "top       False\n",
      "freq        131\n",
      "Name: antivirals, dtype: object\n",
      "\n",
      "\n",
      "count      154\n",
      "unique       2\n",
      "top       True\n",
      "freq       100\n",
      "Name: fatigue, dtype: object\n",
      "\n",
      "\n",
      "count       154\n",
      "unique        2\n",
      "top       False\n",
      "freq         93\n",
      "Name: malaise, dtype: object\n",
      "\n",
      "\n",
      "count       154\n",
      "unique        2\n",
      "top       False\n",
      "freq        122\n",
      "Name: anorexia, dtype: object\n",
      "\n",
      "\n",
      "count      145\n",
      "unique       2\n",
      "top       True\n",
      "freq       120\n",
      "Name: liver_big, dtype: object\n",
      "\n",
      "\n",
      "count       144\n",
      "unique        2\n",
      "top       False\n",
      "freq         84\n",
      "Name: liver_firm, dtype: object\n",
      "\n",
      "\n",
      "count       150\n",
      "unique        2\n",
      "top       False\n",
      "freq        120\n",
      "Name: spleen_palpable, dtype: object\n",
      "\n",
      "\n",
      "count       150\n",
      "unique        2\n",
      "top       False\n",
      "freq         99\n",
      "Name: spiders, dtype: object\n",
      "\n",
      "\n",
      "count       150\n",
      "unique        2\n",
      "top       False\n",
      "freq        130\n",
      "Name: ascites, dtype: object\n",
      "\n",
      "\n",
      "count       150\n",
      "unique        2\n",
      "top       False\n",
      "freq        132\n",
      "Name: varices, dtype: object\n",
      "\n",
      "\n",
      "count    149.000000\n",
      "mean       1.427517\n",
      "std        1.212149\n",
      "min        0.300000\n",
      "25%        0.700000\n",
      "50%        1.000000\n",
      "75%        1.500000\n",
      "max        8.000000\n",
      "Name: bilirubin, dtype: float64\n",
      "\n",
      "\n",
      "count    126.000000\n",
      "mean     105.325397\n",
      "std       51.508109\n",
      "min       26.000000\n",
      "25%       74.250000\n",
      "50%       85.000000\n",
      "75%      132.250000\n",
      "max      295.000000\n",
      "Name: alk_phosphate, dtype: float64\n",
      "\n",
      "\n",
      "count    151.00000\n",
      "mean      85.89404\n",
      "std       89.65089\n",
      "min       14.00000\n",
      "25%       31.50000\n",
      "50%       58.00000\n",
      "75%      100.50000\n",
      "max      648.00000\n",
      "Name: sgot, dtype: float64\n",
      "\n",
      "\n",
      "count    139.000000\n",
      "mean       3.817266\n",
      "std        0.651523\n",
      "min        2.100000\n",
      "25%        3.400000\n",
      "50%        4.000000\n",
      "75%        4.200000\n",
      "max        6.400000\n",
      "Name: albumin, dtype: float64\n",
      "\n",
      "\n",
      "count     88.000000\n",
      "mean      61.852273\n",
      "std       22.875244\n",
      "min        0.000000\n",
      "25%       46.000000\n",
      "50%       61.000000\n",
      "75%       76.250000\n",
      "max      100.000000\n",
      "Name: protime, dtype: float64\n",
      "\n",
      "\n",
      "count       155\n",
      "unique        2\n",
      "top       False\n",
      "freq         85\n",
      "Name: histology, dtype: object\n",
      "\n",
      "\n",
      "count      155\n",
      "unique       2\n",
      "top       live\n",
      "freq       123\n",
      "Name: class, dtype: object\n",
      "\n",
      "\n"
     ]
    }
   ],
   "source": [
    "for column in df:\n",
    "    print(df[column].describe())\n",
    "    print('\\n')\n",
    "\n",
    "\n",
    "\n"
   ]
  },
  {
   "cell_type": "code",
   "execution_count": 62,
   "metadata": {},
   "outputs": [
    {
     "data": {
      "image/png": "[encoded data removed]",
      "text/plain": [
       "<Figure size 432x288 with 1 Axes>"
      ]
     },
     "metadata": {
      "needs_background": "light"
     },
     "output_type": "display_data"
    },
    {
     "data": {
      "image/png": "[encoded data removed]",
      "text/plain": [
       "<Figure size 432x288 with 1 Axes>"
      ]
     },
     "metadata": {
      "needs_background": "light"
     },
     "output_type": "display_data"
    },
    {
     "data": {
      "image/png": "[encoded data removed]",
      "text/plain": [
       "<Figure size 432x288 with 1 Axes>"
      ]
     },
     "metadata": {
      "needs_background": "light"
     },
     "output_type": "display_data"
    },
    {
     "data": {
      "image/png": "[encoded data removed]",
      "text/plain": [
       "<Figure size 432x288 with 1 Axes>"
      ]
     },
     "metadata": {
      "needs_background": "light"
     },
     "output_type": "display_data"
    },
    {
     "data": {
      "image/png": "[encoded data removed]",
      "text/plain": [
       "<Figure size 432x288 with 1 Axes>"
      ]
     },
     "metadata": {
      "needs_background": "light"
     },
     "output_type": "display_data"
    },
    {
     "data": {
      "image/png": "[encoded data removed]",
      "text/plain": [
       "<Figure size 432x288 with 1 Axes>"
      ]
     },
     "metadata": {
      "needs_background": "light"
     },
     "output_type": "display_data"
    }
   ],
   "source": [
    "import matplotlib.pyplot as plt\n",
    "v = ['age','albumin','sgot','alk_phosphate','bilirubin','protime']\n",
    "for i in range(0,len(v)):\n",
    "    sns.distplot(df[v[i]] ,color ='g', bins=100, hist_kws={'alpha':0.4})\n",
    "    plt.show()"
   ]
  },
  {
   "cell_type": "code",
   "execution_count": 63,
   "metadata": {},
   "outputs": [
    {
     "data": {
      "image/png": "[encoded data removed]",
      "text/plain": [
       "<Figure size 432x288 with 1 Axes>"
      ]
     },
     "metadata": {
      "needs_background": "light"
     },
     "output_type": "display_data"
    },
    {
     "data": {
      "image/png": "[encoded data removed]",
      "text/plain": [
       "<Figure size 432x288 with 1 Axes>"
      ]
     },
     "metadata": {
      "needs_background": "light"
     },
     "output_type": "display_data"
    },
    {
     "data": {
      "image/png": "[encoded data removed]",
      "text/plain": [
       "<Figure size 432x288 with 1 Axes>"
      ]
     },
     "metadata": {
      "needs_background": "light"
     },
     "output_type": "display_data"
    },
    {
     "data": {
      "image/png": "[encoded data removed]",
      "text/plain": [
       "<Figure size 432x288 with 1 Axes>"
      ]
     },
     "metadata": {
      "needs_background": "light"
     },
     "output_type": "display_data"
    },
    {
     "data": {
      "image/png": "[encoded data removed]",
      "text/plain": [
       "<Figure size 432x288 with 1 Axes>"
      ]
     },
     "metadata": {
      "needs_background": "light"
     },
     "output_type": "display_data"
    },
    {
     "data": {
      "image/png": "[encoded data removed]",
      "text/plain": [
       "<Figure size 432x288 with 1 Axes>"
      ]
     },
     "metadata": {
      "needs_background": "light"
     },
     "output_type": "display_data"
    }
   ],
   "source": [
    "v = ['age','albumin','sgot','alk_phosphate','bilirubin','protime']\n",
    "for i in range(0,len(v)):\n",
    "    sns.boxplot(df[v[i]])\n",
    "    plt.show()"
   ]
  },
  {
   "cell_type": "code",
   "execution_count": 57,
   "metadata": {},
   "outputs": [
    {
     "data": {
      "text/html": [
       "<div>\n",
       "<style scoped>\n",
       "    .dataframe tbody tr th:only-of-type {\n",
       "        vertical-align: middle;\n",
       "    }\n",
       "\n",
       "    .dataframe tbody tr th {\n",
       "        vertical-align: top;\n",
       "    }\n",
       "\n",
       "    .dataframe thead th {\n",
       "        text-align: right;\n",
       "    }\n",
       "</style>\n",
       "<table border=\"1\" class=\"dataframe\">\n",
       "  <thead>\n",
       "    <tr style=\"text-align: right;\">\n",
       "      <th></th>\n",
       "      <th>age</th>\n",
       "      <th>antivirals</th>\n",
       "      <th>bilirubin</th>\n",
       "      <th>alk_phosphate</th>\n",
       "      <th>sgot</th>\n",
       "      <th>albumin</th>\n",
       "      <th>protime</th>\n",
       "      <th>histology</th>\n",
       "    </tr>\n",
       "  </thead>\n",
       "  <tbody>\n",
       "    <tr>\n",
       "      <th>age</th>\n",
       "      <td>1.000000</td>\n",
       "      <td>0.013100</td>\n",
       "      <td>0.125463</td>\n",
       "      <td>0.008924</td>\n",
       "      <td>0.082545</td>\n",
       "      <td>-0.262981</td>\n",
       "      <td>-0.222233</td>\n",
       "      <td>0.170780</td>\n",
       "    </tr>\n",
       "    <tr>\n",
       "      <th>antivirals</th>\n",
       "      <td>0.013100</td>\n",
       "      <td>1.000000</td>\n",
       "      <td>-0.185023</td>\n",
       "      <td>-0.205236</td>\n",
       "      <td>-0.108138</td>\n",
       "      <td>0.170074</td>\n",
       "      <td>0.030287</td>\n",
       "      <td>-0.209242</td>\n",
       "    </tr>\n",
       "    <tr>\n",
       "      <th>bilirubin</th>\n",
       "      <td>0.125463</td>\n",
       "      <td>-0.185023</td>\n",
       "      <td>1.000000</td>\n",
       "      <td>0.220062</td>\n",
       "      <td>0.232967</td>\n",
       "      <td>-0.377318</td>\n",
       "      <td>-0.302608</td>\n",
       "      <td>0.262428</td>\n",
       "    </tr>\n",
       "    <tr>\n",
       "      <th>alk_phosphate</th>\n",
       "      <td>0.008924</td>\n",
       "      <td>-0.205236</td>\n",
       "      <td>0.220062</td>\n",
       "      <td>1.000000</td>\n",
       "      <td>0.239581</td>\n",
       "      <td>-0.403857</td>\n",
       "      <td>-0.226846</td>\n",
       "      <td>0.284914</td>\n",
       "    </tr>\n",
       "    <tr>\n",
       "      <th>sgot</th>\n",
       "      <td>0.082545</td>\n",
       "      <td>-0.108138</td>\n",
       "      <td>0.232967</td>\n",
       "      <td>0.239581</td>\n",
       "      <td>1.000000</td>\n",
       "      <td>-0.136276</td>\n",
       "      <td>-0.189149</td>\n",
       "      <td>0.131125</td>\n",
       "    </tr>\n",
       "    <tr>\n",
       "      <th>albumin</th>\n",
       "      <td>-0.262981</td>\n",
       "      <td>0.170074</td>\n",
       "      <td>-0.377318</td>\n",
       "      <td>-0.403857</td>\n",
       "      <td>-0.136276</td>\n",
       "      <td>1.000000</td>\n",
       "      <td>0.424419</td>\n",
       "      <td>-0.324751</td>\n",
       "    </tr>\n",
       "    <tr>\n",
       "      <th>protime</th>\n",
       "      <td>-0.222233</td>\n",
       "      <td>0.030287</td>\n",
       "      <td>-0.302608</td>\n",
       "      <td>-0.226846</td>\n",
       "      <td>-0.189149</td>\n",
       "      <td>0.424419</td>\n",
       "      <td>1.000000</td>\n",
       "      <td>-0.312062</td>\n",
       "    </tr>\n",
       "    <tr>\n",
       "      <th>histology</th>\n",
       "      <td>0.170780</td>\n",
       "      <td>-0.209242</td>\n",
       "      <td>0.262428</td>\n",
       "      <td>0.284914</td>\n",
       "      <td>0.131125</td>\n",
       "      <td>-0.324751</td>\n",
       "      <td>-0.312062</td>\n",
       "      <td>1.000000</td>\n",
       "    </tr>\n",
       "  </tbody>\n",
       "</table>\n",
       "</div>"
      ],
      "text/plain": [
       "                    age  antivirals  bilirubin  alk_phosphate      sgot  \\\n",
       "age            1.000000    0.013100   0.125463       0.008924  0.082545   \n",
       "antivirals     0.013100    1.000000  -0.185023      -0.205236 -0.108138   \n",
       "bilirubin      0.125463   -0.185023   1.000000       0.220062  0.232967   \n",
       "alk_phosphate  0.008924   -0.205236   0.220062       1.000000  0.239581   \n",
       "sgot           0.082545   -0.108138   0.232967       0.239581  1.000000   \n",
       "albumin       -0.262981    0.170074  -0.377318      -0.403857 -0.136276   \n",
       "protime       -0.222233    0.030287  -0.302608      -0.226846 -0.189149   \n",
       "histology      0.170780   -0.209242   0.262428       0.284914  0.131125   \n",
       "\n",
       "                albumin   protime  histology  \n",
       "age           -0.262981 -0.222233   0.170780  \n",
       "antivirals     0.170074  0.030287  -0.209242  \n",
       "bilirubin     -0.377318 -0.302608   0.262428  \n",
       "alk_phosphate -0.403857 -0.226846   0.284914  \n",
       "sgot          -0.136276 -0.189149   0.131125  \n",
       "albumin        1.000000  0.424419  -0.324751  \n",
       "protime        0.424419  1.000000  -0.312062  \n",
       "histology     -0.324751 -0.312062   1.000000  "
      ]
     },
     "execution_count": 57,
     "metadata": {},
     "output_type": "execute_result"
    },
    {
     "data": {
      "image/png": "[encoded data removed]",
      "text/plain": [
       "<Figure size 432x288 with 2 Axes>"
      ]
     },
     "metadata": {
      "needs_background": "light"
     },
     "output_type": "display_data"
    }
   ],
   "source": [
    "core=df.corr()\n",
    "sns.heatmap(core,cmap=\"BrBG\", annot=True)\n",
    "core\n",
    "#from this correlation map the the features are nearly independent of each other:\n",
    "# the highest negative-correlatin is -0.4 observed between (albumin, alk_phosphate) and (albumin,bilirubin)\n",
    "#the highest postive-correlation is 0.42 observed between (albumin,protime)\n"
   ]
  },
  {
   "cell_type": "code",
   "execution_count": 83,
   "metadata": {},
   "outputs": [
    {
     "name": "stdout",
     "output_type": "stream",
     "text": [
      "age                 0\n",
      "sex                 0\n",
      "steroid             1\n",
      "antivirals          0\n",
      "fatigue             1\n",
      "malaise             1\n",
      "anorexia            1\n",
      "liver_big          10\n",
      "liver_firm         11\n",
      "spleen_palpable     5\n",
      "spiders             5\n",
      "ascites             5\n",
      "varices             5\n",
      "bilirubin           6\n",
      "alk_phosphate      29\n",
      "sgot                4\n",
      "albumin            16\n",
      "protime            67\n",
      "histology           0\n",
      "class               0\n",
      "dtype: int64\n"
     ]
    }
   ],
   "source": [
    "# when missing values are removed\n",
    "# and the same analysis is done \n",
    "print(df.isnull().sum())"
   ]
  },
  {
   "cell_type": "code",
   "execution_count": 84,
   "metadata": {},
   "outputs": [],
   "source": [
    "df1 = df.drop(['protime'],axis=1)\n"
   ]
  },
  {
   "cell_type": "code",
   "execution_count": 86,
   "metadata": {},
   "outputs": [
    {
     "name": "stdout",
     "output_type": "stream",
     "text": [
      "age                0\n",
      "sex                0\n",
      "steroid            0\n",
      "antivirals         0\n",
      "fatigue            0\n",
      "malaise            0\n",
      "anorexia           0\n",
      "liver_big          0\n",
      "liver_firm         0\n",
      "spleen_palpable    0\n",
      "spiders            0\n",
      "ascites            0\n",
      "varices            0\n",
      "bilirubin          0\n",
      "alk_phosphate      0\n",
      "sgot               0\n",
      "albumin            0\n",
      "histology          0\n",
      "class              0\n",
      "dtype: int64\n"
     ]
    },
    {
     "data": {
      "text/plain": [
       "age                112\n",
       "sex                112\n",
       "steroid            112\n",
       "antivirals         112\n",
       "fatigue            112\n",
       "malaise            112\n",
       "anorexia           112\n",
       "liver_big          112\n",
       "liver_firm         112\n",
       "spleen_palpable    112\n",
       "spiders            112\n",
       "ascites            112\n",
       "varices            112\n",
       "bilirubin          112\n",
       "alk_phosphate      112\n",
       "sgot               112\n",
       "albumin            112\n",
       "histology          112\n",
       "class              112\n",
       "dtype: int64"
      ]
     },
     "execution_count": 86,
     "metadata": {},
     "output_type": "execute_result"
    }
   ],
   "source": [
    "df1 = df1.dropna()\n",
    "print(df1.isnull().sum())\n",
    "df1.count()"
   ]
  },
  {
   "cell_type": "code",
   "execution_count": 78,
   "metadata": {},
   "outputs": [
    {
     "data": {
      "text/html": [
       "<div>\n",
       "<style scoped>\n",
       "    .dataframe tbody tr th:only-of-type {\n",
       "        vertical-align: middle;\n",
       "    }\n",
       "\n",
       "    .dataframe tbody tr th {\n",
       "        vertical-align: top;\n",
       "    }\n",
       "\n",
       "    .dataframe thead th {\n",
       "        text-align: right;\n",
       "    }\n",
       "</style>\n",
       "<table border=\"1\" class=\"dataframe\">\n",
       "  <thead>\n",
       "    <tr style=\"text-align: right;\">\n",
       "      <th></th>\n",
       "      <th>age</th>\n",
       "      <th>antivirals</th>\n",
       "      <th>bilirubin</th>\n",
       "      <th>alk_phosphate</th>\n",
       "      <th>sgot</th>\n",
       "      <th>albumin</th>\n",
       "      <th>histology</th>\n",
       "    </tr>\n",
       "  </thead>\n",
       "  <tbody>\n",
       "    <tr>\n",
       "      <th>age</th>\n",
       "      <td>1.000000</td>\n",
       "      <td>0.025413</td>\n",
       "      <td>0.139721</td>\n",
       "      <td>-0.043096</td>\n",
       "      <td>-0.046631</td>\n",
       "      <td>-0.163845</td>\n",
       "      <td>0.188111</td>\n",
       "    </tr>\n",
       "    <tr>\n",
       "      <th>antivirals</th>\n",
       "      <td>0.025413</td>\n",
       "      <td>1.000000</td>\n",
       "      <td>-0.200999</td>\n",
       "      <td>-0.193487</td>\n",
       "      <td>-0.102940</td>\n",
       "      <td>0.201078</td>\n",
       "      <td>-0.192726</td>\n",
       "    </tr>\n",
       "    <tr>\n",
       "      <th>bilirubin</th>\n",
       "      <td>0.139721</td>\n",
       "      <td>-0.200999</td>\n",
       "      <td>1.000000</td>\n",
       "      <td>0.254596</td>\n",
       "      <td>0.321084</td>\n",
       "      <td>-0.327904</td>\n",
       "      <td>0.293257</td>\n",
       "    </tr>\n",
       "    <tr>\n",
       "      <th>alk_phosphate</th>\n",
       "      <td>-0.043096</td>\n",
       "      <td>-0.193487</td>\n",
       "      <td>0.254596</td>\n",
       "      <td>1.000000</td>\n",
       "      <td>0.299549</td>\n",
       "      <td>-0.382884</td>\n",
       "      <td>0.288455</td>\n",
       "    </tr>\n",
       "    <tr>\n",
       "      <th>sgot</th>\n",
       "      <td>-0.046631</td>\n",
       "      <td>-0.102940</td>\n",
       "      <td>0.321084</td>\n",
       "      <td>0.299549</td>\n",
       "      <td>1.000000</td>\n",
       "      <td>-0.089360</td>\n",
       "      <td>0.103354</td>\n",
       "    </tr>\n",
       "    <tr>\n",
       "      <th>albumin</th>\n",
       "      <td>-0.163845</td>\n",
       "      <td>0.201078</td>\n",
       "      <td>-0.327904</td>\n",
       "      <td>-0.382884</td>\n",
       "      <td>-0.089360</td>\n",
       "      <td>1.000000</td>\n",
       "      <td>-0.366918</td>\n",
       "    </tr>\n",
       "    <tr>\n",
       "      <th>histology</th>\n",
       "      <td>0.188111</td>\n",
       "      <td>-0.192726</td>\n",
       "      <td>0.293257</td>\n",
       "      <td>0.288455</td>\n",
       "      <td>0.103354</td>\n",
       "      <td>-0.366918</td>\n",
       "      <td>1.000000</td>\n",
       "    </tr>\n",
       "  </tbody>\n",
       "</table>\n",
       "</div>"
      ],
      "text/plain": [
       "                    age  antivirals  bilirubin  alk_phosphate      sgot  \\\n",
       "age            1.000000    0.025413   0.139721      -0.043096 -0.046631   \n",
       "antivirals     0.025413    1.000000  -0.200999      -0.193487 -0.102940   \n",
       "bilirubin      0.139721   -0.200999   1.000000       0.254596  0.321084   \n",
       "alk_phosphate -0.043096   -0.193487   0.254596       1.000000  0.299549   \n",
       "sgot          -0.046631   -0.102940   0.321084       0.299549  1.000000   \n",
       "albumin       -0.163845    0.201078  -0.327904      -0.382884 -0.089360   \n",
       "histology      0.188111   -0.192726   0.293257       0.288455  0.103354   \n",
       "\n",
       "                albumin  histology  \n",
       "age           -0.163845   0.188111  \n",
       "antivirals     0.201078  -0.192726  \n",
       "bilirubin     -0.327904   0.293257  \n",
       "alk_phosphate -0.382884   0.288455  \n",
       "sgot          -0.089360   0.103354  \n",
       "albumin        1.000000  -0.366918  \n",
       "histology     -0.366918   1.000000  "
      ]
     },
     "execution_count": 78,
     "metadata": {},
     "output_type": "execute_result"
    },
    {
     "data": {
      "image/png": "[encoded data removed]",
      "text/plain": [
       "<Figure size 432x288 with 2 Axes>"
      ]
     },
     "metadata": {
      "needs_background": "light"
     },
     "output_type": "display_data"
    }
   ],
   "source": [
    "core=df1.corr()\n",
    "sns.heatmap(core,cmap=\"BrBG\", annot=True)\n",
    "core"
   ]
  },
  {
   "cell_type": "code",
   "execution_count": null,
   "metadata": {},
   "outputs": [],
   "source": []
  },
  {
   "cell_type": "code",
   "execution_count": null,
   "metadata": {},
   "outputs": [],
   "source": []
  },
  {
   "cell_type": "code",
   "execution_count": null,
   "metadata": {},
   "outputs": [],
   "source": []
  },
  {
   "cell_type": "code",
   "execution_count": null,
   "metadata": {},
   "outputs": [],
   "source": []
  },
  {
   "cell_type": "code",
   "execution_count": null,
   "metadata": {},
   "outputs": [],
   "source": []
  }
 ],
 "metadata": {
  "kernelspec": {
   "display_name": "Python 3",
   "language": "python",
   "name": "python3"
  },
  "language_info": {
   "codemirror_mode": {
    "name": "ipython",
    "version": 3
   },
   "file_extension": ".py",
   "mimetype": "text/x-python",
   "name": "python",
   "nbconvert_exporter": "python",
   "pygments_lexer": "ipython3",
   "version": "3.8.3"
  }
 },
 "nbformat": 4,
 "nbformat_minor": 4
}
